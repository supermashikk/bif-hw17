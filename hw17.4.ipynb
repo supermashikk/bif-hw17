{
 "cells": [
  {
   "cell_type": "markdown",
   "metadata": {},
   "source": [
    "## for all genes:"
   ]
  },
  {
   "cell_type": "code",
   "execution_count": 2,
   "metadata": {},
   "outputs": [
    {
     "name": "stdout",
     "output_type": "stream",
     "text": [
      "For test split: \n",
      "Accuracy score:  0.6770833333333334\n",
      "Confusion matrix:  [[54 18]\n",
      " [13 11]]\n",
      "True Positive Rate =  0.4583333333333333\n",
      "True Negative Rate =  0.75\n",
      "ROC AUC =  0.6041666666666666\n",
      "For train split: \n",
      "Accuracy score:  1.0\n",
      "Confusion matrix:  [[91  0]\n",
      " [ 0 63]]\n",
      "True Positive Rate =  1.0\n",
      "True Negative Rate =  1.0\n",
      "ROC AUC =  1.0\n"
     ]
    }
   ],
   "source": [
    "import pandas as pd\n",
    "import numpy as np\n",
    "\n",
    "from sklearn.svm import SVC\n",
    "from sklearn.metrics import accuracy_score, confusion_matrix, roc_auc_score\n",
    "\n",
    "df1 = pd.read_csv('/Users/mariiazelenskaia/Desktop/bc_data.csv', index_col = 0)\n",
    "ann = pd.read_csv('/Users/mariiazelenskaia/Desktop/bc_ann.csv', index_col = 0)\n",
    "\n",
    "def accuracy(y1, y2): #y1 - test or train split, y2 - predicted split\n",
    "    \n",
    "    M = confusion_matrix(y1, y2)\n",
    "    print('Accuracy score: ', accuracy_score(y1, y2))\n",
    "    print('Confusion matrix: ', M)\n",
    "    print('True Positive Rate = ', (M[1,1]/(M[1,1] + M[1,0])))\n",
    "    print('True Negative Rate = ', (M[0,0]/(M[0,0] + M[0,1])))\n",
    "    print('ROC AUC = ', (roc_auc_score(y1, y2)))\n",
    "\n",
    "def classification(df):\n",
    "    \n",
    "    X_train = df.loc[ann.loc[ann['Dataset type'] == 'Training'].index].to_numpy()\n",
    "    y_train = ann.loc[ann['Dataset type'] == 'Training', 'Class'].to_numpy()\n",
    "\n",
    "    X_test = df.loc[ann.loc[ann['Dataset type'] == 'Validation'].index].to_numpy()\n",
    "    y_test = ann.loc[ann['Dataset type'] == 'Validation', 'Class'].to_numpy()\n",
    "\n",
    "    model = SVC(kernel = 'linear', class_weight = 'balanced', random_state = 333)\n",
    "    model.fit(X_train, y_train)\n",
    "    \n",
    "    print('For test split: ')\n",
    "    #accuracy for test split:\n",
    "    \n",
    "    y_pred = model.predict(X_test)\n",
    "    accuracy(y_test, y_pred)\n",
    "    \n",
    "    print('For train split: ')\n",
    "    #accuracy for train split\n",
    "    \n",
    "    y_pred = model.predict(X_train)\n",
    "    accuracy(y_train, y_pred)\n",
    "    \n",
    "classification(df1)"
   ]
  },
  {
   "cell_type": "markdown",
   "metadata": {},
   "source": [
    "## for 11 genes:"
   ]
  },
  {
   "cell_type": "code",
   "execution_count": 3,
   "metadata": {},
   "outputs": [
    {
     "name": "stdout",
     "output_type": "stream",
     "text": [
      "For test split: \n",
      "Accuracy score:  0.6770833333333334\n",
      "Confusion matrix:  [[46 26]\n",
      " [ 5 19]]\n",
      "True Positive Rate =  0.7916666666666666\n",
      "True Negative Rate =  0.6388888888888888\n",
      "ROC AUC =  0.7152777777777777\n",
      "For train split: \n",
      "Accuracy score:  0.7402597402597403\n",
      "Confusion matrix:  [[71 20]\n",
      " [20 43]]\n",
      "True Positive Rate =  0.6825396825396826\n",
      "True Negative Rate =  0.7802197802197802\n",
      "ROC AUC =  0.7313797313797314\n"
     ]
    }
   ],
   "source": [
    "genes = \"TRIP13;UBE2C;ZWINT;EPN3;KIF4A;ECHDC2;MTFR1;STARD13;IGFBP6;NUMA1;CCNL2\".split(\";\")\n",
    "df1 = df1[genes]\n",
    "classification(df1)"
   ]
  },
  {
   "cell_type": "code",
   "execution_count": null,
   "metadata": {},
   "outputs": [],
   "source": []
  }
 ],
 "metadata": {
  "kernelspec": {
   "display_name": "Python 3",
   "language": "python",
   "name": "python3"
  },
  "language_info": {
   "codemirror_mode": {
    "name": "ipython",
    "version": 3
   },
   "file_extension": ".py",
   "mimetype": "text/x-python",
   "name": "python",
   "nbconvert_exporter": "python",
   "pygments_lexer": "ipython3",
   "version": "3.7.9"
  }
 },
 "nbformat": 4,
 "nbformat_minor": 4
}
