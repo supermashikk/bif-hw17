{
 "cells": [
  {
   "cell_type": "code",
   "execution_count": 2,
   "metadata": {},
   "outputs": [
    {
     "name": "stdout",
     "output_type": "stream",
     "text": [
      "0.9016393442622951\n"
     ]
    }
   ],
   "source": [
    "import pandas as pd\n",
    "import numpy as np\n",
    "\n",
    "from sklearn.ensemble import RandomForestClassifier\n",
    "from sklearn.model_selection import GridSearchCV, train_test_split, RepeatedStratifiedKFold, cross_val_score\n",
    "from sklearn.metrics import accuracy_score, make_scorer\n",
    "\n",
    "df = pd.read_csv('https://raw.githubusercontent.com/s-a-nersisyan/HSE_bioinformatics_2021/master/seminar15/BRCA_pam50.tsv', index_col = 0, sep = '\\t')\n",
    "\n",
    "X = df.iloc[:, :-1].to_numpy()\n",
    "y = df['Subtype'].to_numpy()\n",
    "\n",
    "X_train, X_test, y_train, y_test = train_test_split(X,y, stratify = y, random_state = 5, test_size = 0.2)\n",
    "clf = RandomForestClassifier(n_estimators=110)\n",
    "clf.fit(X_train, y_train)\n",
    "\n",
    "y_pred = clf.predict(X_test)\n",
    "print(accuracy_score(y_test, y_pred))"
   ]
  },
  {
   "cell_type": "markdown",
   "metadata": {},
   "source": [
    "# применим кросс-валидацию:"
   ]
  },
  {
   "cell_type": "code",
   "execution_count": 3,
   "metadata": {},
   "outputs": [
    {
     "name": "stdout",
     "output_type": "stream",
     "text": [
      "{'bootstrap': 'True', 'max_depth': 10, 'max_features': 'log2', 'n_estimators': 140}\n",
      "0.9074316939890713\n"
     ]
    }
   ],
   "source": [
    "model = RandomForestClassifier(random_state = 333)\n",
    "\n",
    "'''\n",
    "accuracies = cross_val_score(\n",
    "    model, X, y, \n",
    "    scoring=make_scorer(accuracy_score),\n",
    "    cv=RepeatedStratifiedKFold(n_repeats=150)\n",
    ")\n",
    "'''\n",
    "\n",
    "params = {\n",
    "    'n_estimators':[10,20,100,120,130,140,150],\n",
    "    'bootstrap':['True', 'False'],\n",
    "    'max_features':['auto', 'sqrt', 'log2'],\n",
    "    'max_depth':[1,2,3,5,10]\n",
    "}\n",
    "\n",
    "cv = GridSearchCV(\n",
    "    model, params,\n",
    "    scoring = make_scorer(accuracy_score),\n",
    "    cv = RepeatedStratifiedKFold(n_repeats = 10)\n",
    ")\n",
    "\n",
    "cv.fit(X, y)\n",
    "print(cv.best_params_)\n",
    "print(cv.best_score_)"
   ]
  }
 ],
 "metadata": {
  "kernelspec": {
   "display_name": "Python 3",
   "language": "python",
   "name": "python3"
  },
  "language_info": {
   "codemirror_mode": {
    "name": "ipython",
    "version": 3
   },
   "file_extension": ".py",
   "mimetype": "text/x-python",
   "name": "python",
   "nbconvert_exporter": "python",
   "pygments_lexer": "ipython3",
   "version": "3.7.9"
  }
 },
 "nbformat": 4,
 "nbformat_minor": 4
}
