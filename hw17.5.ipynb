{
 "cells": [
  {
   "cell_type": "code",
   "execution_count": 8,
   "metadata": {},
   "outputs": [
    {
     "name": "stdout",
     "output_type": "stream",
     "text": [
      "Amount of genes:  4661\n",
      "0.6004895645452203\n"
     ]
    }
   ],
   "source": [
    "import pandas as pd\n",
    "from scipy.stats import ttest_ind\n",
    "\n",
    "df = pd.read_csv('/Users/mariiazelenskaia/Desktop/bc_data.csv', index_col = 0)\n",
    "ann = pd.read_csv('/Users/mariiazelenskaia/Desktop/bc_ann.csv', index_col = 0)\n",
    "\n",
    "df1 = df.loc[ann.loc[ann['Dataset type'] == 'Validation'].index]\n",
    "df2 = df.loc[ann.loc[ann['Dataset type'] == 'Training'].index]\n",
    "\n",
    "genes = []\n",
    "\n",
    "for i in df.columns:\n",
    "    \n",
    "    if ttest_ind(df1[i], df2[i])[1] < 0.05:\n",
    "        genes.append(i)\n",
    "        \n",
    "'''\n",
    "df.loc['Student test'] = ttest_ind(df1, df2).statistic\n",
    "df.loc['p-value'] = ttest_ind(df1, df2).pvalue\n",
    "\n",
    "df = df.sort_values(by = 'p-value', axis = 1)\n",
    "\n",
    "df = df.T\n",
    "df = df[df['p-value'] < 0.05]\n",
    "df = df.T\n",
    "'''\n",
    "\n",
    "print('Amount of genes: ', len(genes))\n",
    "print(len(genes)/len(df.columns))"
   ]
  },
  {
   "cell_type": "code",
   "execution_count": null,
   "metadata": {},
   "outputs": [],
   "source": []
  }
 ],
 "metadata": {
  "kernelspec": {
   "display_name": "Python 3",
   "language": "python",
   "name": "python3"
  },
  "language_info": {
   "codemirror_mode": {
    "name": "ipython",
    "version": 3
   },
   "file_extension": ".py",
   "mimetype": "text/x-python",
   "name": "python",
   "nbconvert_exporter": "python",
   "pygments_lexer": "ipython3",
   "version": "3.7.9"
  }
 },
 "nbformat": 4,
 "nbformat_minor": 4
}
